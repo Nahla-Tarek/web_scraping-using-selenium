{
 "cells": [
  {
   "cell_type": "code",
   "execution_count": 42,
   "id": "dba67cc2",
   "metadata": {},
   "outputs": [],
   "source": [
    "\n",
    "from selenium import webdriver\n",
    "from selenium.webdriver.support.ui import Select\n",
    "import pandas as pd"
   ]
  },
  {
   "cell_type": "code",
   "execution_count": 43,
   "id": "510a2ffa",
   "metadata": {},
   "outputs": [],
   "source": [
    "# path of the chromedriver we have just downloaded\n",
    "PATH = \"chromedriver.exe\"\n",
    "driver = webdriver.Chrome(PATH)  # to open the browser\n",
    "  \n",
    "# url of google news website\n",
    "url = 'https://www.adamchoi.co.uk/overs/detailed'\n",
    "  \n",
    "# to open the url in the browser\n",
    "driver.get(url)  "
   ]
  },
  {
   "cell_type": "markdown",
   "id": "0f59e0b6",
   "metadata": {},
   "source": [
    "## Clicking on button using selenium"
   ]
  },
  {
   "cell_type": "code",
   "execution_count": 44,
   "id": "ec4be5bf",
   "metadata": {},
   "outputs": [],
   "source": [
    "link1 = driver.find_element_by_xpath('//label[@analytics-event=\"All matches\"]')  "
   ]
  },
  {
   "cell_type": "code",
   "execution_count": 45,
   "id": "7704d7f2",
   "metadata": {},
   "outputs": [],
   "source": [
    "link1.click()"
   ]
  },
  {
   "cell_type": "markdown",
   "id": "67a7516f",
   "metadata": {},
   "source": [
    "## Select country from dropdown"
   ]
  },
  {
   "cell_type": "code",
   "execution_count": 46,
   "id": "4340d79f",
   "metadata": {},
   "outputs": [],
   "source": [
    "dropdown=Select(driver.find_element_by_id(\"country\"))\n",
    "dropdown.select_by_visible_text(\"Spain\")"
   ]
  },
  {
   "cell_type": "markdown",
   "id": "cf02b262",
   "metadata": {},
   "source": [
    "## extract information from table "
   ]
  },
  {
   "cell_type": "code",
   "execution_count": 47,
   "id": "6be3d7ea",
   "metadata": {},
   "outputs": [],
   "source": [
    "link = driver.find_elements_by_tag_name(\"tr\")\n",
    "date=[]\n",
    "home_team=[]\n",
    "score=[]\n",
    "away_team=[]\n",
    "for l in link:\n",
    "    date.append(l.find_element_by_xpath(\"./td[1]\").text)\n",
    "    home_team.append(l.find_element_by_xpath(\"./td[2]\").text)\n",
    "    score.append(l.find_element_by_xpath(\"./td[3]\").text)\n",
    "    away_team.append(l.find_element_by_xpath(\"./td[4]\").text)"
   ]
  },
  {
   "cell_type": "code",
   "execution_count": null,
   "id": "1f235107",
   "metadata": {},
   "outputs": [],
   "source": [
    "driver.quit"
   ]
  },
  {
   "cell_type": "code",
   "execution_count": 48,
   "id": "ed3029a9",
   "metadata": {},
   "outputs": [
    {
     "name": "stdout",
     "output_type": "stream",
     "text": [
      "['Alaves', 'Alaves', 'Valencia', 'Alaves', 'Espanol', 'Alaves', 'Ath Bilbao', 'Alaves', 'Cadiz', 'Alaves', 'Barcelona', 'Alaves', 'Sevilla', 'Elche', 'Ath Bilbao', 'Celta', 'Ath Bilbao', 'Ath Madrid', 'Ath Bilbao', 'Valencia', 'Ath Bilbao', 'Ath Bilbao', 'Espanol', 'Sociedad', 'Ath Bilbao', 'Levante', 'Celta', 'Ath Madrid', 'Ath Madrid', 'Espanol', 'Ath Madrid', 'Getafe', 'Alaves', 'Ath Madrid', 'Ath Madrid', 'Levante', 'Ath Madrid', 'Valencia', 'Ath Madrid', 'Barcelona', 'Ath Bilbao', 'Barcelona', 'Barcelona', 'Cadiz', 'Barcelona', 'Ath Madrid', 'Barcelona', 'Barcelona', 'Vallecano', 'Barcelona', 'Celta', 'Barcelona', 'Mallorca', 'Betis', 'Betis', 'Granada', 'Betis', 'Osasuna', 'Betis', 'Villarreal', 'Alaves', 'Betis', 'Betis', 'Ath Madrid', 'Betis', 'Elche', 'Cadiz', 'Betis', 'Cadiz', 'Cadiz', 'Celta', 'Cadiz', 'Vallecano', 'Cadiz', 'Espanol', 'Cadiz', 'Villarreal', 'Cadiz', 'Ath Bilbao', 'Getafe', 'Celta', 'Osasuna', 'Celta', 'Real Madrid', 'Celta', 'Levante', 'Celta', 'Elche', 'Celta', 'Getafe', 'Celta', 'Vallecano', 'Celta', 'Celta', 'Elche', 'Ath Madrid', 'Elche', 'Getafe', 'Elche', 'Villarreal', 'Sociedad', 'Elche', 'Vallecano', 'Elche', 'Alaves', 'Elche', 'Mallorca', 'Elche', 'Osasuna', 'Espanol', 'Mallorca', 'Espanol', 'Betis', 'Espanol', 'Sevilla', 'Espanol', 'Espanol', 'Elche', 'Espanol', 'Getafe', 'Espanol', 'Barcelona', 'Valencia', 'Getafe', 'Barcelona', 'Getafe', 'Vallecano', 'Getafe', 'Betis', 'Getafe', 'Levante', 'Getafe', 'Granada', 'Getafe', 'Villarreal', 'Getafe', 'Villarreal', 'Granada', 'Vallecano', 'Granada', 'Barcelona', 'Granada', 'Celta', 'Granada', 'Osasuna', 'Granada', 'Levante', 'Espanol', 'Granada', 'Cadiz', 'Levante', 'Sociedad', 'Levante', 'Elche', 'Levante', 'Barcelona', 'Mallorca', 'Levante', 'Sevilla', 'Levante', 'Levante', 'Alaves', 'Levante', 'Mallorca', 'Alaves', 'Mallorca', 'Ath Bilbao', 'Mallorca', 'Real Madrid', 'Mallorca', 'Mallorca', 'Sociedad', 'Valencia', 'Mallorca', 'Cadiz', 'Mallorca', 'Vallecano', 'Osasuna', 'Osasuna', 'Cadiz', 'Osasuna', 'Alaves', 'Osasuna', 'Mallorca', 'Osasuna', 'Villarreal', 'Osasuna', 'Real Madrid', 'Sevilla', 'Osasuna', 'Ath Madrid', 'Alaves', 'Levante', 'Betis', 'Real Madrid', 'Valencia', 'Real Madrid', 'Real Madrid', 'Espanol', 'Barcelona', 'Real Madrid', 'Elche', 'Real Madrid', 'Granada', 'Sevilla', 'Getafe', 'Elche', 'Sociedad', 'Sevilla', 'Sevilla', 'Granada', 'Celta', 'Sevilla', 'Mallorca', 'Sevilla', 'Betis', 'Sevilla', 'Barcelona', 'Sociedad', 'Sociedad', 'Cadiz', 'Sociedad', 'Granada', 'Sociedad', 'Getafe', 'Sociedad', 'Ath Madrid', 'Celta', 'Sociedad', 'Osasuna', 'Sociedad', 'Valencia', 'Granada', 'Valencia', 'Osasuna', 'Valencia', 'Sevilla', 'Valencia', 'Cadiz', 'Barcelona', 'Valencia', 'Betis', 'Valencia', 'Valencia', 'Sociedad', 'Sevilla', 'Sociedad', 'Vallecano', 'Levante', 'Vallecano', 'Ath Bilbao', 'Vallecano', 'Osasuna', 'Vallecano', 'Betis', 'Vallecano', 'Vallecano', 'Real Madrid', 'Vallecano', 'Villarreal', 'Espanol', 'Ath Madrid', 'Mallorca', 'Villarreal', 'Real Madrid', 'Villarreal', 'Villarreal', 'Ath Bilbao', 'Villarreal', 'Valencia', 'Villarreal', 'Celta']\n"
     ]
    }
   ],
   "source": [
    "print(home_team)"
   ]
  },
  {
   "cell_type": "markdown",
   "id": "ce25f5a3",
   "metadata": {},
   "source": [
    "## Exporting data to csv file"
   ]
  },
  {
   "cell_type": "code",
   "execution_count": 49,
   "id": "20b1fd65",
   "metadata": {},
   "outputs": [],
   "source": [
    "df=pd.DataFrame({\"date\":date,\"home_team\":home_team,\"score\":score,\"away_team\":away_team})"
   ]
  },
  {
   "cell_type": "code",
   "execution_count": 50,
   "id": "8d80ac77",
   "metadata": {},
   "outputs": [],
   "source": [
    "df.to_csv(\"football_data.csv\",index=False)"
   ]
  },
  {
   "cell_type": "code",
   "execution_count": 51,
   "id": "3f060bb9",
   "metadata": {},
   "outputs": [
    {
     "data": {
      "text/html": [
       "<div>\n",
       "<style scoped>\n",
       "    .dataframe tbody tr th:only-of-type {\n",
       "        vertical-align: middle;\n",
       "    }\n",
       "\n",
       "    .dataframe tbody tr th {\n",
       "        vertical-align: top;\n",
       "    }\n",
       "\n",
       "    .dataframe thead th {\n",
       "        text-align: right;\n",
       "    }\n",
       "</style>\n",
       "<table border=\"1\" class=\"dataframe\">\n",
       "  <thead>\n",
       "    <tr style=\"text-align: right;\">\n",
       "      <th></th>\n",
       "      <th>date</th>\n",
       "      <th>home_team</th>\n",
       "      <th>score</th>\n",
       "      <th>away_team</th>\n",
       "    </tr>\n",
       "  </thead>\n",
       "  <tbody>\n",
       "    <tr>\n",
       "      <th>0</th>\n",
       "      <td>14-08-2021</td>\n",
       "      <td>Alaves</td>\n",
       "      <td>1 - 4</td>\n",
       "      <td>Real Madrid</td>\n",
       "    </tr>\n",
       "    <tr>\n",
       "      <th>1</th>\n",
       "      <td>21-08-2021</td>\n",
       "      <td>Alaves</td>\n",
       "      <td>0 - 1</td>\n",
       "      <td>Mallorca</td>\n",
       "    </tr>\n",
       "    <tr>\n",
       "      <th>2</th>\n",
       "      <td>27-08-2021</td>\n",
       "      <td>Valencia</td>\n",
       "      <td>3 - 0</td>\n",
       "      <td>Alaves</td>\n",
       "    </tr>\n",
       "    <tr>\n",
       "      <th>3</th>\n",
       "      <td>18-09-2021</td>\n",
       "      <td>Alaves</td>\n",
       "      <td>0 - 2</td>\n",
       "      <td>Osasuna</td>\n",
       "    </tr>\n",
       "    <tr>\n",
       "      <th>4</th>\n",
       "      <td>22-09-2021</td>\n",
       "      <td>Espanol</td>\n",
       "      <td>1 - 0</td>\n",
       "      <td>Alaves</td>\n",
       "    </tr>\n",
       "    <tr>\n",
       "      <th>...</th>\n",
       "      <td>...</td>\n",
       "      <td>...</td>\n",
       "      <td>...</td>\n",
       "      <td>...</td>\n",
       "    </tr>\n",
       "    <tr>\n",
       "      <th>267</th>\n",
       "      <td>23-10-2021</td>\n",
       "      <td>Ath Bilbao</td>\n",
       "      <td>2 - 1</td>\n",
       "      <td>Villarreal</td>\n",
       "    </tr>\n",
       "    <tr>\n",
       "      <th>268</th>\n",
       "      <td>26-10-2021</td>\n",
       "      <td>Villarreal</td>\n",
       "      <td>3 - 3</td>\n",
       "      <td>Cadiz</td>\n",
       "    </tr>\n",
       "    <tr>\n",
       "      <th>269</th>\n",
       "      <td>30-10-2021</td>\n",
       "      <td>Valencia</td>\n",
       "      <td>2 - 0</td>\n",
       "      <td>Villarreal</td>\n",
       "    </tr>\n",
       "    <tr>\n",
       "      <th>270</th>\n",
       "      <td>07-11-2021</td>\n",
       "      <td>Villarreal</td>\n",
       "      <td>1 - 0</td>\n",
       "      <td>Getafe</td>\n",
       "    </tr>\n",
       "    <tr>\n",
       "      <th>271</th>\n",
       "      <td>20-11-2021</td>\n",
       "      <td>Celta</td>\n",
       "      <td>? - ?</td>\n",
       "      <td>Villarreal</td>\n",
       "    </tr>\n",
       "  </tbody>\n",
       "</table>\n",
       "<p>272 rows × 4 columns</p>\n",
       "</div>"
      ],
      "text/plain": [
       "           date   home_team  score    away_team\n",
       "0    14-08-2021      Alaves  1 - 4  Real Madrid\n",
       "1    21-08-2021      Alaves  0 - 1     Mallorca\n",
       "2    27-08-2021    Valencia  3 - 0       Alaves\n",
       "3    18-09-2021      Alaves  0 - 2      Osasuna\n",
       "4    22-09-2021     Espanol  1 - 0       Alaves\n",
       "..          ...         ...    ...          ...\n",
       "267  23-10-2021  Ath Bilbao  2 - 1   Villarreal\n",
       "268  26-10-2021  Villarreal  3 - 3        Cadiz\n",
       "269  30-10-2021    Valencia  2 - 0   Villarreal\n",
       "270  07-11-2021  Villarreal  1 - 0       Getafe\n",
       "271  20-11-2021       Celta  ? - ?   Villarreal\n",
       "\n",
       "[272 rows x 4 columns]"
      ]
     },
     "execution_count": 51,
     "metadata": {},
     "output_type": "execute_result"
    }
   ],
   "source": [
    "df"
   ]
  },
  {
   "cell_type": "markdown",
   "id": "bf1e098e",
   "metadata": {},
   "source": []
  },
  {
   "cell_type": "code",
   "execution_count": null,
   "id": "b329747e",
   "metadata": {},
   "outputs": [],
   "source": []
  },
  {
   "cell_type": "code",
   "execution_count": null,
   "id": "5f19291a",
   "metadata": {},
   "outputs": [],
   "source": []
  }
 ],
 "metadata": {
  "kernelspec": {
   "display_name": "Python 3",
   "language": "python",
   "name": "python3"
  },
  "language_info": {
   "codemirror_mode": {
    "name": "ipython",
    "version": 3
   },
   "file_extension": ".py",
   "mimetype": "text/x-python",
   "name": "python",
   "nbconvert_exporter": "python",
   "pygments_lexer": "ipython3",
   "version": "3.8.8"
  }
 },
 "nbformat": 4,
 "nbformat_minor": 5
}
